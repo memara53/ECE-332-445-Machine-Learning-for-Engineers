{
 "cells": [
  {
   "cell_type": "markdown",
   "metadata": {},
   "source": [
    "## Mahmoud Emara"
   ]
  },
  {
   "cell_type": "markdown",
   "metadata": {},
   "source": [
    "### Mini Jupyter Exercise #5\n",
    "### Standardization of Data\n",
    "#### 1. Center the wine dataset so that each attribute has zero (empirical) mean."
   ]
  },
  {
   "cell_type": "code",
   "execution_count": 1,
   "metadata": {},
   "outputs": [
    {
     "name": "stdout",
     "output_type": "stream",
     "text": [
      "Dataset dimensions:  (178, 13)\n",
      "Mean Matrix dimensions:  (13, 178)\n",
      "Centered dataset:  (13, 178)\n"
     ]
    }
   ],
   "source": [
    "import numpy as np\n",
    "from matplotlib import pyplot as plt\n",
    "from mpl_toolkits.mplot3d import Axes3D\n",
    "import array\n",
    "from sklearn.datasets import load_wine\n",
    "import math\n",
    "samples, labels = load_wine(return_X_y=True)\n",
    "\n",
    "sampleT = samples.T\n",
    "meanVector = sampleT.mean(axis=1)\n",
    "# Number of instances: 178\n",
    "# Number of Attributes: 13\n",
    "meanMatrix = np.tile(meanVector.reshape(13,1),(1,178))\n",
    "centData = sampleT - meanMatrix\n",
    "\n",
    "print(\"Dataset dimensions: \", samples.shape)\n",
    "print(\"Mean Matrix dimensions: \", meanMatrix.shape)\n",
    "print(\"Centered dataset: \", centData.shape)"
   ]
  },
  {
   "cell_type": "markdown",
   "metadata": {},
   "source": [
    "#### 2. Compute two-dimensional PCA features of the centered wine dataset. Display the two-dimensional features of wine data samples as points on a two-dimensional scatter plot. Display all points corresponding to: (i) label ‘0’ as red squares, (ii) label ‘1’ as green triangles, and (iii) label ‘2’ as blue circles."
   ]
  },
  {
   "cell_type": "code",
   "execution_count": 1,
   "metadata": {},
   "outputs": [
    {
     "ename": "NameError",
     "evalue": "name 'np' is not defined",
     "output_type": "error",
     "traceback": [
      "\u001b[1;31m---------------------------------------------------------------------------\u001b[0m",
      "\u001b[1;31mNameError\u001b[0m                                 Traceback (most recent call last)",
      "\u001b[1;32m<ipython-input-1-9b0d21a049e0>\u001b[0m in \u001b[0;36m<module>\u001b[1;34m()\u001b[0m\n\u001b[0;32m      1\u001b[0m \u001b[1;31m# Singular Value Decomposition\u001b[0m\u001b[1;33m\u001b[0m\u001b[1;33m\u001b[0m\u001b[0m\n\u001b[0;32m      2\u001b[0m \u001b[1;33m\u001b[0m\u001b[0m\n\u001b[1;32m----> 3\u001b[1;33m \u001b[0mU\u001b[0m\u001b[1;33m,\u001b[0m \u001b[0ms\u001b[0m\u001b[1;33m,\u001b[0m \u001b[0mVt\u001b[0m \u001b[1;33m=\u001b[0m \u001b[0mnp\u001b[0m\u001b[1;33m.\u001b[0m\u001b[0mlinalg\u001b[0m\u001b[1;33m.\u001b[0m\u001b[0msvd\u001b[0m\u001b[1;33m(\u001b[0m\u001b[0mcentData\u001b[0m\u001b[1;33m)\u001b[0m\u001b[1;33m\u001b[0m\u001b[0m\n\u001b[0m\u001b[0;32m      4\u001b[0m \u001b[0mprinc\u001b[0m \u001b[1;33m=\u001b[0m \u001b[0mU\u001b[0m\u001b[1;33m[\u001b[0m\u001b[1;33m:\u001b[0m\u001b[1;33m,\u001b[0m\u001b[1;36m0\u001b[0m\u001b[1;33m:\u001b[0m\u001b[1;36m2\u001b[0m\u001b[1;33m]\u001b[0m\u001b[1;33m\u001b[0m\u001b[0m\n\u001b[0;32m      5\u001b[0m \u001b[1;33m\u001b[0m\u001b[0m\n",
      "\u001b[1;31mNameError\u001b[0m: name 'np' is not defined"
     ]
    }
   ],
   "source": [
    "# Singular Value Decomposition\n",
    "\n",
    "U, s, Vt = np.linalg.svd(centData)\n",
    "princ = U[:,0:2]\n",
    "\n",
    "print(\"Dimension of dataset: \", samples.shape)\n",
    "print(\"Dimension of transposed data set: \", samples.T.shape)\n",
    "print(\"Dimensions of top 2 Princinpal Componenets: \", princ.shape)\n",
    "print()\n",
    "\n",
    "# Top 2 Principal Components\n",
    "print(\"Top 2 Principal Components of data matrix: \")\n",
    "print(princ)\n",
    "print()\n",
    "\n",
    "# PCA-based features\n",
    "print(\"Features: U.T * Centered Data: \",princ.T.shape,\"x\",centData.shape)\n",
    "X_tilde = np.matmul(princ.T, centData)\n",
    "print(\"The projected data using the top principal components: \")\n",
    "print(X_tilde.T)\n",
    "print(\"X_tilde dimensions: \",X_tilde.T.shape)"
   ]
  },
  {
   "cell_type": "code",
   "execution_count": 3,
   "metadata": {
    "scrolled": true
   },
   "outputs": [
    {
     "data": {
      "text/plain": [
       "<matplotlib.legend.Legend at 0x2027a1b5668>"
      ]
     },
     "execution_count": 3,
     "metadata": {},
     "output_type": "execute_result"
    },
    {
     "data": {
      "image/png": "[encoded data removed]",
      "text/plain": [
       "<Figure size 432x288 with 1 Axes>"
      ]
     },
     "metadata": {},
     "output_type": "display_data"
    }
   ],
   "source": [
    "zeroX = list()\n",
    "zeroY = list()\n",
    "\n",
    "oneX = list()\n",
    "oneY = list()\n",
    "\n",
    "twoX = list()dat\n",
    "twoY = list()\n",
    "\n",
    "for i in range(len(samples)):\n",
    "    if(labels[i] == 0):\n",
    "        zeroX.append(X_tilde.T[i][0])\n",
    "        zeroY.append(X_tilde.T[i][1])\n",
    "    if(labels[i] == 1):\n",
    "        oneX.append(X_tilde.T[i][0])\n",
    "        oneY.append(X_tilde.T[i][1])\n",
    "    if(labels[i] == 2):\n",
    "        twoX.append(X_tilde.T[i][0])\n",
    "        twoY.append(X_tilde.T[i][1])\n",
    "\n",
    "zeroPlot = plt.scatter(zeroX, zeroY, color='r', marker='s', label='Zero')\n",
    "onePlot = plt.scatter(oneX, oneY, color='g', marker='^', label='One')\n",
    "twoPlot = plt.scatter(twoX, twoY, color='b', marker='o', label='Two')\n",
    "plt.title('Two-Dimensional Features of Wine Dataset')\n",
    "plt.legend(handles = [zeroPlot, onePlot, twoPlot])"
   ]
  },
  {
   "cell_type": "markdown",
   "metadata": {},
   "source": [
    "#### 3. Normalize the centered wine dataset so that each attribute also has unit (empirical) variance."
   ]
  },
  {
   "cell_type": "code",
   "execution_count": 4,
   "metadata": {},
   "outputs": [
    {
     "name": "stdout",
     "output_type": "stream",
     "text": [
      "Normalized data dimensions:  (13, 178)\n"
     ]
    }
   ],
   "source": [
    "normData = np.zeros((13,178))\n",
    "\n",
    "for i in range(len(samples.T)):\n",
    "    std = np.std(centData[i])\n",
    "    for j in range(len(samples.T[0])):\n",
    "        normData[i][j] = (centData[i][j]) / (std)\n",
    "        \n",
    "print(\"Normalized data dimensions: \", normData.shape)"
   ]
  },
  {
   "cell_type": "markdown",
   "metadata": {},
   "source": [
    "#### 4. Compute two-dimensional PCA features of the standardized (centered and normalized) wine dataset. Display the two-dimensional features of standardized wine data samples as points on a twodimensional scatter plot. Display all points corresponding to: (i) label ‘0’ as red squares, (ii) label ‘1’ as green triangles, and (iii) label ‘2’ as blue circles."
   ]
  },
  {
   "cell_type": "code",
   "execution_count": 5,
   "metadata": {},
   "outputs": [
    {
     "name": "stdout",
     "output_type": "stream",
     "text": [
      "Features: U.T * Normalized Data:  (2, 13) x (13, 178)\n",
      "The projected data using the top principal components: \n",
      "[[-3.31675081 -1.44346263]\n",
      " [-2.20946492  0.33339289]\n",
      " [-2.51674015 -1.0311513 ]\n",
      " [-3.75706561 -2.75637191]\n",
      " [-1.00890849 -0.86983082]\n",
      " [-3.05025392 -2.12240111]\n",
      " [-2.44908967 -1.17485013]\n",
      " [-2.05943687 -1.60896307]\n",
      " [-2.5108743  -0.91807096]\n",
      " [-2.75362819 -0.78943767]\n",
      " [-3.47973668 -1.30233324]\n",
      " [-1.7547529  -0.61197723]\n",
      " [-2.11346234 -0.67570634]\n",
      " [-3.45815682 -1.13062988]\n",
      " [-4.31278391 -2.09597558]\n",
      " [-2.3051882  -1.66255173]\n",
      " [-2.17195527 -2.32730534]\n",
      " [-1.89897118 -1.63136888]\n",
      " [-3.54198508 -2.51834367]\n",
      " [-2.0845222  -1.06113799]\n",
      " [-3.12440254 -0.78689711]\n",
      " [-1.08657007 -0.24174355]\n",
      " [-2.53522408  0.09184062]\n",
      " [-1.64498834  0.51627893]\n",
      " [-1.76157587  0.31714893]\n",
      " [-0.9900791  -0.94066734]\n",
      " [-1.77527763 -0.68617513]\n",
      " [-1.23542396  0.08980704]\n",
      " [-2.18840633 -0.68956962]\n",
      " [-2.25610898 -0.19146194]\n",
      " [-2.50022003 -1.24083383]\n",
      " [-2.67741105 -1.47187365]\n",
      " [-1.62857912 -0.05270445]\n",
      " [-1.90269086 -1.63306043]\n",
      " [-1.41038853 -0.69793432]\n",
      " [-1.90382623 -0.17671095]\n",
      " [-1.38486223 -0.65863985]\n",
      " [-1.12220741 -0.11410976]\n",
      " [-1.5021945   0.76943201]\n",
      " [-2.52980109 -1.80300198]\n",
      " [-2.58809543 -0.7796163 ]\n",
      " [-0.66848199 -0.16996094]\n",
      " [-3.07080699 -1.15591896]\n",
      " [-0.46220914 -0.33074213]\n",
      " [-2.10135193  0.07100892]\n",
      " [-1.13616618 -1.77710739]\n",
      " [-2.72660096 -1.19133469]\n",
      " [-2.82133927 -0.6462586 ]\n",
      " [-2.00985085 -1.24702946]\n",
      " [-2.7074913  -1.75196741]\n",
      " [-3.21491747 -0.16699199]\n",
      " [-2.85895983 -0.7452788 ]\n",
      " [-3.50560436 -1.61273386]\n",
      " [-2.22479138 -1.875168  ]\n",
      " [-2.14698782 -1.01675154]\n",
      " [-2.46932948 -1.32900831]\n",
      " [-2.74151791 -1.43654878]\n",
      " [-2.17374092 -1.21219984]\n",
      " [-3.13938015 -1.73157912]\n",
      " [ 0.92858197  3.07348616]\n",
      " [ 1.54248014  1.38144351]\n",
      " [ 1.83624976  0.82998412]\n",
      " [-0.03060683  1.26278614]\n",
      " [-2.05026161  1.9250326 ]\n",
      " [ 0.60968083  1.90805881]\n",
      " [-0.90022784  0.76391147]\n",
      " [-2.24850719  1.88459248]\n",
      " [-0.18338403  2.42714611]\n",
      " [ 0.81280503  0.22051399]\n",
      " [-1.9756205   1.40328323]\n",
      " [ 1.57221622  0.88498314]\n",
      " [-1.65768181  0.9567122 ]\n",
      " [ 0.72537239  1.0636454 ]\n",
      " [-2.56222717 -0.26019855]\n",
      " [-1.83256757  1.2878782 ]\n",
      " [ 0.8679929   2.44410119]\n",
      " [-0.3700144   2.15390698]\n",
      " [ 1.45737704  1.38335177]\n",
      " [-1.26293085  0.77084953]\n",
      " [-0.37615037  1.0270434 ]\n",
      " [-0.7620639   3.37505381]\n",
      " [-1.03457797  1.45070974]\n",
      " [ 0.49487676  2.38124353]\n",
      " [ 2.53897708  0.08744336]\n",
      " [-0.83532015  1.47367055]\n",
      " [-0.78790461  2.02662652]\n",
      " [ 0.80683216  2.23383039]\n",
      " [ 0.55804262  2.37298543]\n",
      " [ 1.11511104  1.80224719]\n",
      " [ 0.55572283  2.65754004]\n",
      " [ 1.34928528  2.11800147]\n",
      " [ 1.56448261  1.85221452]\n",
      " [ 1.93255561  1.55949546]\n",
      " [-0.74666594  2.31293171]\n",
      " [-0.95745536  2.22352843]\n",
      " [-2.54386518 -0.16927402]\n",
      " [ 0.54395259  0.36892655]\n",
      " [-1.03104975  2.56556935]\n",
      " [-2.25190942  1.43274138]\n",
      " [-1.41021602  2.16619177]\n",
      " [-0.79771979  2.3769488 ]\n",
      " [ 0.54953173  2.29312864]\n",
      " [ 0.16117374  1.16448332]\n",
      " [ 0.65979494  2.67996119]\n",
      " [-0.39235441  2.09873171]\n",
      " [ 1.77249908  1.71728847]\n",
      " [ 0.36626736  2.1693533 ]\n",
      " [ 1.62067257  1.35558339]\n",
      " [-0.08253578  2.30623459]\n",
      " [-1.57827507  1.46203429]\n",
      " [-1.42056925  1.41820664]\n",
      " [ 0.27870275  1.93056809]\n",
      " [ 1.30314497  0.76317231]\n",
      " [ 0.45707187  2.26941561]\n",
      " [ 0.49418585  1.93904505]\n",
      " [-0.48207441  3.87178385]\n",
      " [ 0.25288888  2.82149237]\n",
      " [ 0.10722764  1.92892204]\n",
      " [ 2.4330126   1.25714104]\n",
      " [ 0.55108954  2.22216155]\n",
      " [-0.73962193  1.40895667]\n",
      " [-1.33632173 -0.25333693]\n",
      " [ 1.177087    0.66396684]\n",
      " [ 0.46233501  0.61828818]\n",
      " [-0.97847408  1.4455705 ]\n",
      " [ 0.09680973  2.10999799]\n",
      " [-0.03848715  1.26676211]\n",
      " [ 1.5971585   1.20814357]\n",
      " [ 0.47956492  1.93884066]\n",
      " [ 1.79283347  1.1502881 ]\n",
      " [ 1.32710166 -0.17038923]\n",
      " [ 2.38450083 -0.37458261]\n",
      " [ 2.9369401  -0.26386183]\n",
      " [ 2.14681113 -0.36825495]\n",
      " [ 2.36986949  0.45963481]\n",
      " [ 3.06384157 -0.35341284]\n",
      " [ 3.91575378 -0.15458252]\n",
      " [ 3.93646339 -0.65968723]\n",
      " [ 3.09427612 -0.34884276]\n",
      " [ 2.37447163 -0.29198035]\n",
      " [ 2.77881295 -0.28680487]\n",
      " [ 2.28656128 -0.37250784]\n",
      " [ 2.98563349 -0.48921791]\n",
      " [ 2.3751947  -0.48233372]\n",
      " [ 2.20986553 -1.1600525 ]\n",
      " [ 2.625621   -0.56316076]\n",
      " [ 4.28063878 -0.64967096]\n",
      " [ 3.58264137 -1.27270275]\n",
      " [ 2.80706372 -1.57053379]\n",
      " [ 2.89965933 -2.04105701]\n",
      " [ 2.32073698 -2.35636608]\n",
      " [ 2.54983095 -2.04528309]\n",
      " [ 1.81254128 -1.52764595]\n",
      " [ 2.76014464 -2.13893235]\n",
      " [ 2.7371505  -0.40988627]\n",
      " [ 3.60486887 -1.80238422]\n",
      " [ 2.889826   -1.92521861]\n",
      " [ 3.39215608 -1.31187639]\n",
      " [ 1.0481819  -3.51508969]\n",
      " [ 1.60991228 -2.40663816]\n",
      " [ 3.14313097 -0.73816104]\n",
      " [ 2.2401569  -1.17546529]\n",
      " [ 2.84767378 -0.55604397]\n",
      " [ 2.59749706 -0.69796554]\n",
      " [ 2.94929937 -1.55530896]\n",
      " [ 3.53003227 -0.8825268 ]\n",
      " [ 2.40611054 -2.59235618]\n",
      " [ 2.92908473 -1.27444695]\n",
      " [ 2.18141278 -2.07753731]\n",
      " [ 2.38092779 -2.58866743]\n",
      " [ 3.21161722  0.2512491 ]\n",
      " [ 3.67791872 -0.84774784]\n",
      " [ 2.4655558  -2.1937983 ]\n",
      " [ 3.37052415 -2.21628914]\n",
      " [ 2.60195585 -1.75722935]\n",
      " [ 2.67783946 -2.76089913]\n",
      " [ 2.38701709 -2.29734668]\n",
      " [ 3.20875816 -2.76891957]]\n",
      "X_hat dimensions:  (178, 2)\n"
     ]
    }
   ],
   "source": [
    "U, s, Vt = np.linalg.svd(normData)\n",
    "princ1 = U[:,0:2]\n",
    "\n",
    "print(\"Features: U.T * Normalized Data: \",princ1.T.shape,\"x\",normData.shape)\n",
    "X_hat = np.matmul(princ1.T, normData)\n",
    "print(\"The projected data using the top principal components: \")\n",
    "print(X_hat.T)\n",
    "print(\"X_hat dimensions: \",X_hat.T.shape)"
   ]
  },
  {
   "cell_type": "code",
   "execution_count": 6,
   "metadata": {},
   "outputs": [
    {
     "data": {
      "text/plain": [
       "<matplotlib.legend.Legend at 0x2027a24d4e0>"
      ]
     },
     "execution_count": 6,
     "metadata": {},
     "output_type": "execute_result"
    },
    {
     "data": {
      "image/png": "[encoded data removed]",
      "text/plain": [
       "<Figure size 432x288 with 1 Axes>"
      ]
     },
     "metadata": {},
     "output_type": "display_data"
    }
   ],
   "source": [
    "zeroX1 = list()\n",
    "zeroY1 = list()\n",
    "oneX1 = list()\n",
    "oneY1 = list()\n",
    "twoX1 = list()\n",
    "twoY1 = list()\n",
    "\n",
    "for i in range(len(samples)):\n",
    "    if(labels[i] == 0):\n",
    "        zeroX1.append(X_hat.T[i][0])\n",
    "        zeroY1.append(X_hat.T[i][1])\n",
    "    if(labels[i] == 1):\n",
    "        oneX1.append(X_hat.T[i][0])\n",
    "        oneY1.append(X_hat.T[i][1])\n",
    "    if(labels[i] == 2):\n",
    "        twoX1.append(X_hat.T[i][0])\n",
    "        twoY1.append(X_hat.T[i][1])\n",
    "\n",
    "zeroPlot = plt.scatter(zeroX1, zeroY1, color='r', marker='s', label='Zero')\n",
    "onePlot = plt.scatter(oneX1, oneY1, color='g', marker='^', label='One')\n",
    "twoPlot = plt.scatter(twoX1, twoY1, color='b', marker='o', label='Two')\n",
    "plt.title('Two-Dimensional Features of Standardized Wine Dataset')\n",
    "plt.legend(handles = [zeroPlot, onePlot, twoPlot], loc = 'upper right')"
   ]
  },
  {
   "cell_type": "markdown",
   "metadata": {},
   "source": [
    "#### 5. In your opinion, based on the above two plots, which PCA features would lead to better classification performance?\n",
    "\n",
    "The standardized (centered and normalized) is the better option for better classification performance because the data almost separated into their own \"clusters\" of groups corresponding to their labels. This will make it easier to differentiate the data samples."
   ]
  },
  {
   "cell_type": "markdown",
   "metadata": {},
   "source": [
    "### Naive Bayes Classification\n",
    "#### 1. Build a three-class naive Bayes classifier that takes as input two-dimensional data and assumes each feature of the data to be conditionally Gaussian (i.e., Gaussian naive Bayes). You should assume that all classes are equally likely and that the class labels take values in the set {0, 1, 2}, as in the wine dataset."
   ]
  },
  {
   "cell_type": "code",
   "execution_count": 7,
   "metadata": {},
   "outputs": [],
   "source": [
    "# Calculate the gaussian pdf manually using mean and standard deviation.\n",
    "def GaussianPDF(x, mean, std):\n",
    "    exp = float(np.exp(-pow(x-mean,2)))/(2*pow(std,2))\n",
    "    return float(1/np.sqrt(2*np.pi*pow(std,2)))*exp\n",
    "\n",
    "def Classifier(trainData, labelSet, testSet):\n",
    "    # PCA of the training data that has been split.\n",
    "    U, s, Vt = np.linalg.svd(trainData)\n",
    "    prinVal = U[:,0:2] #Use the top 2 principal components of the training data.\n",
    "    features = np.matmul(prinVal.T, trainData)\n",
    "    \n",
    "    # Separate the labels by class according to their values.\n",
    "    LabelData = np.zeros((len(labelSet),2))  \n",
    "    for i in range(len(labelSet)):\n",
    "        LabelData[i][0] = i\n",
    "        LabelData[i][1] = labelSet[i]\n",
    "\n",
    "    # Create separate classes for each value of labels.\n",
    "    ZeroData = list()\n",
    "    OneData = list()\n",
    "    TwoData = list()\n",
    "    for i in range(len(LabelData)):\n",
    "        if(LabelData[i][1] == 0):\n",
    "            ZeroData.append(i)\n",
    "        if(LabelData[i][1] == 1):\n",
    "            OneData.append(i)\n",
    "        if(LabelData[i][1] == 2):\n",
    "            TwoData.append(i)\n",
    "            \n",
    "    # Separate the classes by their XY coordinates by using the\n",
    "    # labels to find which corresponding value in the features of the \n",
    "    # training data to use.\n",
    "    classZeroX = []; classZeroY = []\n",
    "    classOneX = []; classOneY = []\n",
    "    classTwoX = []; classTwoY = []\n",
    "    for i in range(len(ZeroData)):\n",
    "        val = ZeroData[i]\n",
    "        classZeroX.append(features[0][val])\n",
    "        classZeroY.append(features[1][val])\n",
    "    for i in range(len(OneData)):\n",
    "        idx = OneData[i]\n",
    "        classOneX.append(features[0][val])\n",
    "        classOneY.append(features[1][val])\n",
    "    for i in range(len(TwoData)):\n",
    "        idx = TwoData[i]\n",
    "        classTwoX.append(features[0][val])\n",
    "        classTwoY.append(features[1][val])\n",
    "    \n",
    "    # Calculate the mean and standard deviation of each coordinate\n",
    "    # for each class of values.\n",
    "    meanZeroX = np.mean(classZeroX); meanZeroY = np.mean(classZeroY)\n",
    "    stdZeroX = np.std(classZeroX); stdZeroY = np.std(classZeroY)\n",
    "     \n",
    "    meanOneX = np.mean(classOneX); meanOneY = np.mean(classOneY)\n",
    "    stdOneX = np.std(classOneX); stdOneY = np.std(classOneY)\n",
    "      \n",
    "    meanTwoX = np.mean(classTwoX); meanTwoY = np.mean(classTwoY)\n",
    "    stdTwoX = np.std(classTwoX); stdTwoY = np.std(classTwoY)\n",
    "    \n",
    "    # Perform PCA on the smaller test set and retrieve the top features.\n",
    "    U, s, Vt = np.linalg.svd(testSet)\n",
    "    prinValTest = U[:,0:2]\n",
    "    testFeatures = np.matmul(prinValTest.T, testSet)\n",
    "    \n",
    "    # Make predicitions using Bayes principle.\n",
    "    predVal = []\n",
    "    for i in range(testFeatures.shape[1]):\n",
    "        predZero = GaussianPDF(testFeatures[0][i],meanZeroX,stdZeroX)*GaussianPDF(features[1][i],meanZeroY,stdZeroY)\n",
    "        predOne = GaussianPDF(testFeatures[0][i],meanOneX,stdOneX)*GaussianPDF(features[1][i],meanOneY,stdOneY)\n",
    "        predTwo = GaussianPDF(testFeatures[0][i],meanTwoX,stdTwoX)*GaussianPDF(features[1][i],meanTwoY,stdTwoY)\n",
    "        predictions = [predZero,predOne,predTwo]\n",
    "        predVal.append(predictions.index(max(predictions)))\n",
    "    return predVal\n",
    "\n",
    "# Funcitons to split the datasets.\n",
    "def splitData(valueSet, labelSet, b1, b2, b3):\n",
    "    testSet = valueSet[:,b1:b2]\n",
    "    testLabel = labelSet[b1:b2]\n",
    "    trainSet = valueSet[:,b2:b3]\n",
    "    trainLabel = labelSet[b2:b3]\n",
    "    return testSet, testLabel, trainSet, trainLabel\n",
    "\n",
    "def splitData2(valueSet, labelSet, b1,b2):\n",
    "    testSet = valueSet[:,b1:b2]\n",
    "    testLabel = labelSet[b1:b2]\n",
    "    trainSet = np.column_stack((valueSet[:,0:b1], valueSet[:,b2:]))\n",
    "    trainLabel = np.append(labelSet[:b1], labelSet[b2:])\n",
    "    return testSet, testLabel, trainSet, trainLabel\n",
    "\n",
    "# Count the errors made in the predictions by comparing to actual values.\n",
    "def countError(prediction, labels):\n",
    "    count = 0;\n",
    "    for i in range(len(prediction)):\n",
    "        if (prediction[i] != labels[i]):\n",
    "            count = count +1\n",
    "    return count"
   ]
  },
  {
   "cell_type": "markdown",
   "metadata": {},
   "source": [
    "#### 2. Use Gaussian naive Bayes classifier for classification of the wine dataset using K-fold cross validation with K = 5 as follows:\n",
    "\n",
    "#### Case I: Perform classification using your implementation of Gaussian naive Bayes classifier and two-dimensional PCA features of centered data only."
   ]
  },
  {
   "cell_type": "code",
   "execution_count": 15,
   "metadata": {},
   "outputs": [
    {
     "name": "stdout",
     "output_type": "stream",
     "text": [
      "Case I Results:  \n",
      "Errors: : [7, 13, 36, 35, 35] \n",
      "Mean:  25.2 \n",
      "Variance:  157.76\n"
     ]
    },
    {
     "name": "stderr",
     "output_type": "stream",
     "text": [
      "C:\\Users\\Mahmoud\\Anaconda3\\lib\\site-packages\\ipykernel_launcher.py:3: RuntimeWarning: invalid value encountered in double_scalars\n",
      "  This is separate from the ipykernel package so we can avoid doing imports until\n",
      "C:\\Users\\Mahmoud\\Anaconda3\\lib\\site-packages\\ipykernel_launcher.py:4: RuntimeWarning: divide by zero encountered in double_scalars\n",
      "  after removing the cwd from sys.path.\n",
      "C:\\Users\\Mahmoud\\Anaconda3\\lib\\site-packages\\ipykernel_launcher.py:3: RuntimeWarning: divide by zero encountered in double_scalars\n",
      "  This is separate from the ipykernel package so we can avoid doing imports until\n",
      "C:\\Users\\Mahmoud\\Anaconda3\\lib\\site-packages\\ipykernel_launcher.py:69: RuntimeWarning: invalid value encountered in double_scalars\n",
      "C:\\Users\\Mahmoud\\Anaconda3\\lib\\site-packages\\ipykernel_launcher.py:70: RuntimeWarning: invalid value encountered in double_scalars\n"
     ]
    }
   ],
   "source": [
    "# Case I Centered Data\n",
    "\n",
    "# Split the data in a ratio about 80% to 20% where there is larger training set.\n",
    "testK1, testLabelsK1, trainK1, trainLabelsK1 = splitData(centData, labels, 0,36,178)\n",
    "testK2, testLabelsK2, trainK2, trainLabelsK2 = splitData2(centData, labels, 36,72)\n",
    "testK3, testLabelsK3, trainK3, trainLabelsK3 = splitData2(centData, labels, 72,108)\n",
    "testK4, testLabelsK4, trainK4, trainLabelsK4 = splitData2(centData, labels, 108,143)\n",
    "testK5 = centData[:,143:]\n",
    "trainK5 = centData[:,0:143]\n",
    "testLabelsK5 = labels[143:]\n",
    "trainLabelsK5 = labels[:143]\n",
    "\n",
    "# Make predictions for each K partition of the K-fold class validation.\n",
    "predictionK1 = Classifier(trainK1, trainLabelsK1, testK1)\n",
    "predictionK2 = Classifier(trainK2, trainLabelsK2, testK2)\n",
    "predictionK3 = Classifier(trainK3, trainLabelsK3, testK3)\n",
    "predictionK4 = Classifier(trainK4, trainLabelsK4, testK4)\n",
    "predictionK5 = Classifier(trainK5, trainLabelsK5, testK5)\n",
    "\n",
    "errors = list()\n",
    "errors.append(countError(predictionK1, testLabelsK1))\n",
    "errors.append(countError(predictionK2, testLabelsK2))\n",
    "errors.append(countError(predictionK3, testLabelsK3))\n",
    "errors.append(countError(predictionK4, testLabelsK4))\n",
    "errors.append(countError(predictionK5, testLabelsK5))\n",
    "\n",
    "Emean = np.mean(errors)\n",
    "Evariance = np.var(errors)\n",
    "print(\"Case I Results: \",\"\\nErrors: :\",errors,\"\\nMean: \",Emean,\"\\nVariance: \",Evariance)"
   ]
  },
  {
   "cell_type": "markdown",
   "metadata": {},
   "source": [
    "#### Case II: Perform classification using your implementation of Gaussian naive Bayes classifier and two-dimensional PCA features of standardized data."
   ]
  },
  {
   "cell_type": "code",
   "execution_count": 14,
   "metadata": {},
   "outputs": [
    {
     "name": "stdout",
     "output_type": "stream",
     "text": [
      "Case II Results:  \n",
      "Errors: : [36, 23, 0, 13, 35] \n",
      "Mean:  21.4 \n",
      "Variance:  185.83999999999997\n"
     ]
    },
    {
     "name": "stderr",
     "output_type": "stream",
     "text": [
      "C:\\Users\\Mahmoud\\Anaconda3\\lib\\site-packages\\ipykernel_launcher.py:3: RuntimeWarning: divide by zero encountered in double_scalars\n",
      "  This is separate from the ipykernel package so we can avoid doing imports until\n",
      "C:\\Users\\Mahmoud\\Anaconda3\\lib\\site-packages\\ipykernel_launcher.py:4: RuntimeWarning: divide by zero encountered in double_scalars\n",
      "  after removing the cwd from sys.path.\n"
     ]
    }
   ],
   "source": [
    "# Case II Standardized Data\n",
    "testK1, testLabelsK1, trainK1, trainLabelsK1 = splitData(normData, labels, 0,36,178)\n",
    "testK2, testLabelsK2, trainK2, trainLabelsK2 = splitData2(normData, labels, 36,72)\n",
    "testK3, testLabelsK3, trainK3, trainLabelsK3 = splitData2(normData, labels, 72,108)\n",
    "testK4, testLabelsK4, trainK4, trainLabelsK4 = splitData2(normData, labels, 108,143)\n",
    "testK5 = normData[:,143:]\n",
    "trainK5 = normData[:,0:143]\n",
    "testLabelsK5 = labels[143:]\n",
    "trainLabelsK5 = labels[:143]\n",
    "\n",
    "predictionK1 = Classifier(trainK1, trainLabelsK1, testK1)\n",
    "predictionK2 = Classifier(trainK2, trainLabelsK2, testK2)\n",
    "predictionK3 = Classifier(trainK3, trainLabelsK3, testK3)\n",
    "predictionK4 = Classifier(trainK4, trainLabelsK4, testK4)\n",
    "predictionK5 = Classifier(trainK5, trainLabelsK5, testK5)\n",
    "\n",
    "def findError(prediction, labels):\n",
    "    count = 0;\n",
    "    for i in range(len(prediction)):\n",
    "        if (prediction[i] != labels[i]):\n",
    "            count = count +1\n",
    "    return count\n",
    "\n",
    "error = list()\n",
    "error.append(findError(predictionK1, testLabelsK1))\n",
    "error.append(findError(predictionK2, testLabelsK2))\n",
    "error.append(findError(predictionK3, testLabelsK3))\n",
    "error.append(findError(predictionK4, testLabelsK4))\n",
    "error.append(findError(predictionK5, testLabelsK5))\n",
    "\n",
    "Emean = np.mean(error)\n",
    "Evariance = np.var(error)\n",
    "print(\"Case II Results: \",\"\\nErrors: :\",error,\"\\nMean: \",Emean,\"\\nVariance: \",Evariance)\n"
   ]
  },
  {
   "cell_type": "markdown",
   "metadata": {},
   "source": [
    "#### Case III: Perform classification using sklearn’s implementation of Gaussian naive Bayes classifier (sklearn.naive_bayes.GaussianNB) and two-dimensional PCA features of standardized data."
   ]
  },
  {
   "cell_type": "code",
   "execution_count": 13,
   "metadata": {},
   "outputs": [
    {
     "name": "stdout",
     "output_type": "stream",
     "text": [
      "Case III Results:  \n",
      "Errors: : [2, 4, 2, 1, 3] \n",
      "Mean:  2.4 \n",
      "Variance:  1.0400000000000003\n"
     ]
    }
   ],
   "source": [
    "# Case III \n",
    "from sklearn.naive_bayes import GaussianNB\n",
    "\n",
    "def GNBClassifier(trainSet, trainLabelSet, testSet):\n",
    "    Gauss = GaussianNB()\n",
    "    Gauss.fit(trainSet.T, trainLabelSet)\n",
    "    prediction = Gauss.predict(testSet.T)\n",
    "    return prediction\n",
    "\n",
    "error = list()\n",
    "error.append(findError(GNBClassifier(trainK1, trainLabelsK1, testK1), testLabelsK1))\n",
    "error.append(findError(GNBClassifier(trainK2, trainLabelsK2, testK2), testLabelsK2))\n",
    "error.append(findError(GNBClassifier(trainK3, trainLabelsK3, testK3), testLabelsK3))\n",
    "error.append(findError(GNBClassifier(trainK4, trainLabelsK4, testK4), testLabelsK4))\n",
    "error.append(findError(GNBClassifier(trainK5, trainLabelsK5, testK5), testLabelsK5))\n",
    "\n",
    "Emean = np.mean(error)\n",
    "Evariance = np.var(error)\n",
    "print(\"Case III Results: \",\"\\nErrors: :\",error,\"\\nMean: \",Emean,\"\\nVariance: \",Evariance)"
   ]
  },
  {
   "cell_type": "markdown",
   "metadata": {},
   "source": [
    "####  3. Compare and contrast the mean and variance of the classification accuracy of the classifiers in Case I, Case II, and Case III.\n"
   ]
  },
  {
   "cell_type": "markdown",
   "metadata": {},
   "source": [
    "In Case III, the results show the least amount of errors than the other cases. In the fourth iteration, there is only 1 error found and in the first and third iterations, only 2 errors found. Case II has the next best performance since we are using the standardized data. Although there were no errors found in the third iteration, there are still more total errors found than in Case III. Since the data is more differentiable/seperable than the centered data in Case I, we are able to see less errors in all partitions of the k-fold cross validation."
   ]
  }
 ],
 "metadata": {
  "kernelspec": {
   "display_name": "Python 3",
   "language": "python",
   "name": "python3"
  },
  "language_info": {
   "codemirror_mode": {
    "name": "ipython",
    "version": 3
   },
   "file_extension": ".py",
   "mimetype": "text/x-python",
   "name": "python",
   "nbconvert_exporter": "python",
   "pygments_lexer": "ipython3",
   "version": "3.6.5"
  }
 },
 "nbformat": 4,
 "nbformat_minor": 2
}
